{
  "cells": [
    {
      "cell_type": "code",
      "execution_count": 1,
      "metadata": {
        "id": "CnWPPGcyMaHO"
      },
      "outputs": [],
      "source": [
        "import tensorflow as tf\n",
        "\n",
        "import tensorflow.keras.utils as utils\n",
        "\n",
        "import tensorflow.keras.layers as layers\n",
        "\n",
        "import os"
      ]
    },
    {
      "cell_type": "code",
      "execution_count": null,
      "metadata": {
        "id": "Quwa3OX7MYU3"
      },
      "outputs": [],
      "source": [
        "urli = \"https://github.com/dicodingacademy/assets/releases/download/release/rockpaperscissors.zip\"\n",
        "\n",
        "tenori(urli)"
      ]
    },
    {
      "cell_type": "code",
      "execution_count": 3,
      "metadata": {
        "colab": {
          "base_uri": "https://localhost:8080/"
        },
        "id": "ulVRji6-MWsa",
        "outputId": "ee25da83-93bc-44c8-af0f-7e6b4bd0dba4"
      },
      "outputs": [
        {
          "data": {
            "text/plain": [
              "['scissors', 'README_rpc-cv-images.txt', 'rock', 'paper']"
            ]
          },
          "execution_count": 3,
          "metadata": {},
          "output_type": "execute_result"
        }
      ],
      "source": [
        "rootir = \"/tmp/datasets/rockpaperscissors/rps-cv-images\"\n",
        "\n",
        "os.listdir(rootir)"
      ]
    },
    {
      "cell_type": "code",
      "execution_count": 4,
      "metadata": {
        "id": "44sXsoONMUwt"
      },
      "outputs": [],
      "source": [
        "i = os.path.join(rootir, os.listdir(rootir)[1])\n",
        "\n",
        "os.remove(i)"
      ]
    },
    {
      "cell_type": "code",
      "execution_count": 5,
      "metadata": {
        "colab": {
          "base_uri": "https://localhost:8080/"
        },
        "id": "fTsGf5VjMTIE",
        "outputId": "615dc3dd-1d1c-4732-b090-aca55b535f7e"
      },
      "outputs": [
        {
          "data": {
            "text/plain": [
              "['scissors', 'rock', 'paper']"
            ]
          },
          "execution_count": 5,
          "metadata": {},
          "output_type": "execute_result"
        }
      ],
      "source": [
        "os.listdir(rootir)"
      ]
    },
    {
      "cell_type": "code",
      "execution_count": null,
      "metadata": {
        "id": "IGA5cMpsRFLg"
      },
      "outputs": [],
      "source": [
        "validation_split = 0.3; random = 10; split = \"both\"\n",
        "\n",
        "images = (150, 150); batcher = 18\n",
        "\n",
        "orifile = utils.image_dataset_from_directory(\n",
        "    rootir,\n",
        "    seed = random,\n",
        "    subset = split,\n",
        "    image_size = images,\n",
        "    batch_size = batcher,\n",
        "    validation_split = validation_split,\n",
        ")\n",
        "\n",
        "train, testi = orifile"
      ]
    },
    {
      "cell_type": "code",
      "execution_count": null,
      "metadata": {},
      "outputs": [],
      "source": [
        "len(train) * 18"
      ]
    },
    {
      "cell_type": "code",
      "execution_count": null,
      "metadata": {},
      "outputs": [],
      "source": [
        "len(testi) * 18"
      ]
    },
    {
      "cell_type": "code",
      "execution_count": 8,
      "metadata": {
        "colab": {
          "base_uri": "https://localhost:8080/"
        },
        "id": "J93KwGrKkBpf",
        "outputId": "52a60906-823f-4614-b696-895d77053ba6"
      },
      "outputs": [
        {
          "data": {
            "text/plain": [
              "['paper', 'rock', 'scissors']"
            ]
          },
          "execution_count": 8,
          "metadata": {},
          "output_type": "execute_result"
        }
      ],
      "source": [
        "classes = train.class_names\n",
        "\n",
        "outlen = len(classes)"
      ]
    },
    {
      "cell_type": "code",
      "execution_count": 9,
      "metadata": {
        "id": "M6fuFah3STAl"
      },
      "outputs": [],
      "source": [
        "relater = lambda i, l : (tf.cast(i / 255.0, tf.float16), l)\n",
        "\n",
        "train = train.map(relater).cache()\n",
        "\n",
        "testi = testi.map(relater)"
      ]
    },
    {
      "cell_type": "code",
      "execution_count": null,
      "metadata": {},
      "outputs": [],
      "source": [
        "class Hantu(Model):\n",
        "  def __init__(self, input, outlen):\n",
        "    super(Hantu, self).__init__()\n",
        "    self.pooling = layers.MaxPooling2D((2, 2))\n",
        "    self.flatten = layers.Flatten()\n",
        "    self.classes = layers\n",
        "\n",
        "  def call(self, input):\n",
        "    result = self.classes(x)\n",
        "    return result"
      ]
    },
    {
      "cell_type": "code",
      "execution_count": null,
      "metadata": {},
      "outputs": [],
      "source": [
        "model.compile(optimizer, loss, metrics)"
      ]
    },
    {
      "cell_type": "code",
      "execution_count": null,
      "metadata": {
        "id": "B-ybeMTfTHU4"
      },
      "outputs": [],
      "source": [
        "epochs = 10\n",
        "\n",
        "plot = model.fit(train, validation_data=testi, epochs=epochs)"
      ]
    },
    {
      "cell_type": "code",
      "execution_count": null,
      "metadata": {
        "id": "fmtVyg5ZUMT2"
      },
      "outputs": [],
      "source": [
        "model.evaluate(train)"
      ]
    },
    {
      "cell_type": "code",
      "execution_count": null,
      "metadata": {
        "id": "y4zpKr0DUNwZ"
      },
      "outputs": [],
      "source": [
        "model.evaluate(testi)"
      ]
    },
    {
      "cell_type": "code",
      "execution_count": null,
      "metadata": {
        "id": "m5oLNixLP5rN"
      },
      "outputs": [],
      "source": [
        "!tail server.log"
      ]
    },
    {
      "cell_type": "code",
      "execution_count": null,
      "metadata": {
        "id": "m7qTTjdOMMcE"
      },
      "outputs": [],
      "source": [
        "import json, requests\n",
        "\n",
        "image, label = next(iter(testi))\n",
        "\n",
        "image = image.numpy().tolist()\n",
        "\n",
        "total = len(image)\n",
        "\n",
        "total"
      ]
    },
    {
      "cell_type": "code",
      "execution_count": null,
      "metadata": {
        "id": "jtJvCff0jQcT"
      },
      "outputs": [],
      "source": [
        "len(image[0])"
      ]
    },
    {
      "cell_type": "code",
      "execution_count": null,
      "metadata": {
        "id": "Jw_KnYdxMQRz"
      },
      "outputs": [],
      "source": [
        "inturl = \"http://127.0.0.1:8501/v1/models/interi:predict\"\n",
        "\n",
        "serving = {\"signature_name\":\"serving_default\", \"instances\":image}\n",
        "\n",
        "content = {\"content-type\":\"application/json\"}"
      ]
    },
    {
      "cell_type": "code",
      "execution_count": null,
      "metadata": {
        "id": "-CVrVy_iPsoc"
      },
      "outputs": [],
      "source": [
        "logits = \"null\""
      ]
    },
    {
      "cell_type": "markdown",
      "metadata": {
        "id": "_taLkYkkPn8l"
      },
      "source": [
        "### ```Optional```"
      ]
    },
    {
      "cell_type": "code",
      "execution_count": null,
      "metadata": {
        "id": "bG2tANToPfB2"
      },
      "outputs": [],
      "source": [
        "model.save('/tmp/modelapi',save_format='tf')"
      ]
    },
    {
      "cell_type": "code",
      "execution_count": null,
      "metadata": {
        "id": "WtYvn_OAPiSQ"
      },
      "outputs": [],
      "source": [
        "model_api = tf.keras.models.load_model('/tmp/modelapi')\n",
        "\n",
        "model_api.evaluate(train)"
      ]
    }
  ],
  "metadata": {
    "colab": {
      "provenance": []
    },
    "kernelspec": {
      "display_name": "Python 3",
      "name": "python3"
    },
    "language_info": {
      "name": "python"
    }
  },
  "nbformat": 4,
  "nbformat_minor": 0
}
