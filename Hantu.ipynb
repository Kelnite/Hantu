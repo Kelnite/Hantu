{
  "nbformat": 4,
  "nbformat_minor": 0,
  "metadata": {
    "colab": {
      "provenance": []
    },
    "kernelspec": {
      "name": "python3",
      "display_name": "Python 3"
    },
    "language_info": {
      "name": "python"
    }
  },
  "cells": [
    {
      "cell_type": "code",
      "source": [
        "import tensorflow as tf\n",
        "\n",
        "import tensorflow.keras.utils as utils\n",
        "\n",
        "import tensorflow.keras.layers as layers\n",
        "\n",
        "import os"
      ],
      "metadata": {
        "id": "CnWPPGcyMaHO"
      },
      "execution_count": 1,
      "outputs": []
    },
    {
      "cell_type": "code",
      "source": [
        "urli = \"https://github.com/dicodingacademy/assets/releases/download/release/rockpaperscissors.zip\"\n",
        "\n",
        "tenori(urli)"
      ],
      "metadata": {
        "id": "Quwa3OX7MYU3"
      },
      "execution_count": null,
      "outputs": []
    },
    {
      "cell_type": "code",
      "source": [
        "rootir = \"/tmp/datasets/rockpaperscissors/rps-cv-images\"\n",
        "\n",
        "os.listdir(rootir)"
      ],
      "metadata": {
        "id": "ulVRji6-MWsa",
        "colab": {
          "base_uri": "https://localhost:8080/"
        },
        "outputId": "ee25da83-93bc-44c8-af0f-7e6b4bd0dba4"
      },
      "execution_count": 3,
      "outputs": [
        {
          "output_type": "execute_result",
          "data": {
            "text/plain": [
              "['scissors', 'README_rpc-cv-images.txt', 'rock', 'paper']"
            ]
          },
          "metadata": {},
          "execution_count": 3
        }
      ]
    },
    {
      "cell_type": "code",
      "source": [
        "i = os.path.join(rootir, os.listdir(rootir)[1])\n",
        "\n",
        "os.remove(i)"
      ],
      "metadata": {
        "id": "44sXsoONMUwt"
      },
      "execution_count": 4,
      "outputs": []
    },
    {
      "cell_type": "code",
      "source": [
        "os.listdir(rootir)"
      ],
      "metadata": {
        "id": "fTsGf5VjMTIE",
        "colab": {
          "base_uri": "https://localhost:8080/"
        },
        "outputId": "615dc3dd-1d1c-4732-b090-aca55b535f7e"
      },
      "execution_count": 5,
      "outputs": [
        {
          "output_type": "execute_result",
          "data": {
            "text/plain": [
              "['scissors', 'rock', 'paper']"
            ]
          },
          "metadata": {},
          "execution_count": 5
        }
      ]
    },
    {
      "cell_type": "code",
      "source": [
        "validation_split = 0.3; random = 10; split = \"both\"\n",
        "\n",
        "images = (150, 150); batcher = 18\n",
        "\n",
        "orifile = utils.image_dataset_from_directory(\n",
        "    rootir,\n",
        "    seed = random,\n",
        "    subset = split,\n",
        "    image_size = images,\n",
        "    batch_size = batcher,\n",
        "    validation_split = validation_split,\n",
        ")\n",
        "\n",
        "train, testi = orifile"
      ],
      "metadata": {
        "id": "IGA5cMpsRFLg"
      },
      "execution_count": null,
      "outputs": []
    },
    {
      "cell_type": "code",
      "source": [
        "classes = train.class_names\n",
        "\n",
        "classes"
      ],
      "metadata": {
        "colab": {
          "base_uri": "https://localhost:8080/"
        },
        "id": "J93KwGrKkBpf",
        "outputId": "52a60906-823f-4614-b696-895d77053ba6"
      },
      "execution_count": 8,
      "outputs": [
        {
          "output_type": "execute_result",
          "data": {
            "text/plain": [
              "['paper', 'rock', 'scissors']"
            ]
          },
          "metadata": {},
          "execution_count": 8
        }
      ]
    },
    {
      "cell_type": "code",
      "source": [
        "relater = lambda i, l : (tf.cast(i / 255.0, tf.float16), l)\n",
        "\n",
        "train = train.map(relater).cache()\n",
        "\n",
        "testi = testi.map(relater)"
      ],
      "metadata": {
        "id": "M6fuFah3STAl"
      },
      "execution_count": 9,
      "outputs": []
    },
    {
      "cell_type": "code",
      "source": [
        "epochs = 10\n",
        "\n",
        "plot = model.fit(train, validation_data=testi, epochs=epochs)"
      ],
      "metadata": {
        "id": "B-ybeMTfTHU4"
      },
      "execution_count": null,
      "outputs": []
    },
    {
      "cell_type": "code",
      "source": [
        "model.evaluate(train)"
      ],
      "metadata": {
        "id": "fmtVyg5ZUMT2"
      },
      "execution_count": null,
      "outputs": []
    },
    {
      "cell_type": "code",
      "source": [
        "model.evaluate(testi)"
      ],
      "metadata": {
        "id": "y4zpKr0DUNwZ"
      },
      "execution_count": null,
      "outputs": []
    },
    {
      "cell_type": "code",
      "source": [
        "!tail server.log"
      ],
      "metadata": {
        "id": "m5oLNixLP5rN"
      },
      "execution_count": null,
      "outputs": []
    },
    {
      "cell_type": "code",
      "execution_count": null,
      "metadata": {
        "id": "m7qTTjdOMMcE"
      },
      "outputs": [],
      "source": [
        "import json, requests\n",
        "\n",
        "image, label = next(iter(testi))\n",
        "\n",
        "image = image.numpy().tolist()\n",
        "\n",
        "total = len(image)\n",
        "\n",
        "total"
      ]
    },
    {
      "cell_type": "code",
      "source": [
        "len(image[0])"
      ],
      "metadata": {
        "id": "jtJvCff0jQcT"
      },
      "execution_count": null,
      "outputs": []
    },
    {
      "cell_type": "code",
      "source": [
        "inturl = \"http://127.0.0.1:8501/v1/models/interi:predict\"\n",
        "\n",
        "serving = {\"signature_name\":\"serving_default\", \"instances\":image}\n",
        "\n",
        "content = {\"content-type\":\"application/json\"}"
      ],
      "metadata": {
        "id": "Jw_KnYdxMQRz"
      },
      "execution_count": null,
      "outputs": []
    },
    {
      "cell_type": "code",
      "source": [
        "logits = \"null\""
      ],
      "metadata": {
        "id": "-CVrVy_iPsoc"
      },
      "execution_count": null,
      "outputs": []
    },
    {
      "cell_type": "markdown",
      "source": [
        "### ```Optional```"
      ],
      "metadata": {
        "id": "_taLkYkkPn8l"
      }
    },
    {
      "cell_type": "code",
      "source": [
        "model.save('/tmp/modelapi',save_format='tf')"
      ],
      "metadata": {
        "id": "bG2tANToPfB2"
      },
      "execution_count": null,
      "outputs": []
    },
    {
      "cell_type": "code",
      "source": [
        "model_api = tf.keras.models.load_model('/tmp/modelapi')\n",
        "\n",
        "model_api.evaluate(train)"
      ],
      "metadata": {
        "id": "WtYvn_OAPiSQ"
      },
      "execution_count": null,
      "outputs": []
    }
  ]
}